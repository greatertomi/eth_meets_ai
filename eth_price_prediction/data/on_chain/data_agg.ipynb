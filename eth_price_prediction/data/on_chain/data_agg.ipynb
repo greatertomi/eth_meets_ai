{
 "cells": [
  {
   "cell_type": "code",
   "execution_count": 1,
   "metadata": {
    "pycharm": {
     "name": "#%%\n"
    }
   },
   "outputs": [],
   "source": [
    "import pandas as pd"
   ]
  },
  {
   "cell_type": "code",
   "execution_count": 2,
   "metadata": {
    "pycharm": {
     "name": "#%%\n"
    }
   },
   "outputs": [],
   "source": [
    "address_count = pd.read_csv('export-AddressCount.csv')\n",
    "avg_gas_price = pd.read_csv('export-AvgGasPrice.csv')\n",
    "block_difficulty = pd.read_csv('export-BlockDifficulty.csv')\n",
    "block_size = pd.read_csv('export-BlockSize.csv')\n",
    "block_time = pd.read_csv('export-BlockTime.csv')\n",
    "daily_active_erc20Address = pd.read_csv('export-DailyActiveERC20Address.csv')\n",
    "daily_active_ethAddress = pd.read_csv('export-DailyActiveEthAddress.csv')\n",
    "gas_limit = pd.read_csv('export-GasLimit.csv')\n",
    "gas_used = pd.read_csv('export-GasUsed.csv')\n",
    "market_cap = pd.read_csv('export-MarketCap.csv')\n",
    "network_hash = pd.read_csv('export-NetworkHash.csv')\n",
    "network_utilization = pd.read_csv('export-NetworkUtilization.csv')\n",
    "token_erc_twenty_txns = pd.read_csv('export-tokenerc-20txns.csv')\n",
    "transaction_fee = pd.read_csv('export-TransactionFee.csv')\n",
    "tx_growth = pd.read_csv('export-TxGrowth.csv')\n",
    "uncles = pd.read_csv('export-Uncles.csv')\n",
    "verified_contracts = pd.read_csv('export-verified-contracts.csv')"
   ]
  },
  {
   "cell_type": "code",
   "execution_count": null,
   "outputs": [],
   "source": [
    "data_frames = [address_count, avg_gas_price, block_difficulty, block_size, block_time, daily_active_erc20Address,\n",
    "               daily_active_ethAddress, gas_limit, gas_used, network_hash, network_utilization,\n",
    "               token_erc_twenty_txns, transaction_fee, tx_growth, uncles, verified_contracts, market_cap]\n",
    "\n",
    "df = address_count\n",
    "\n",
    "for i in range(1, len(data_frames)):\n",
    "    df = pd.merge(df, data_frames[i], on='Date(UTC)')\n",
    "df = df.loc[:, ~df.columns.str.startswith('U')]\n",
    "df.tail()"
   ],
   "metadata": {
    "collapsed": false,
    "pycharm": {
     "name": "#%%\n"
    }
   }
  },
  {
   "cell_type": "code",
   "execution_count": null,
   "outputs": [],
   "source": [
    "df.head()"
   ],
   "metadata": {
    "collapsed": false,
    "pycharm": {
     "name": "#%%\n"
    }
   }
  },
  {
   "cell_type": "code",
   "execution_count": null,
   "outputs": [],
   "source": [
    "df.to_csv('cleaned_data.csv', index=False)"
   ],
   "metadata": {
    "collapsed": false,
    "pycharm": {
     "name": "#%%\n"
    }
   }
  },
  {
   "cell_type": "code",
   "execution_count": null,
   "outputs": [],
   "source": [],
   "metadata": {
    "collapsed": false,
    "pycharm": {
     "name": "#%%\n"
    }
   }
  },
  {
   "cell_type": "code",
   "execution_count": 15,
   "metadata": {
    "pycharm": {
     "name": "#%%\n"
    }
   },
   "outputs": [],
   "source": [
    "df.to_csv('cleaned_data.csv', index=False)"
   ]
  },
  {
   "cell_type": "code",
   "execution_count": null,
   "metadata": {
    "pycharm": {
     "name": "#%%\n"
    }
   },
   "outputs": [],
   "source": []
  }
 ],
 "metadata": {
  "kernelspec": {
   "display_name": "Python 3",
   "language": "python",
   "name": "python3"
  },
  "language_info": {
   "codemirror_mode": {
    "name": "ipython",
    "version": 3
   },
   "file_extension": ".py",
   "mimetype": "text/x-python",
   "name": "python",
   "nbconvert_exporter": "python",
   "pygments_lexer": "ipython3",
   "version": "3.8.5"
  }
 },
 "nbformat": 4,
 "nbformat_minor": 1
}