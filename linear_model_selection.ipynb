{
 "cells": [
  {
   "cell_type": "code",
   "execution_count": 1,
   "metadata": {
    "pycharm": {
     "name": "#%%\n"
    }
   },
   "outputs": [],
   "source": [
    "import numpy as np\n",
    "import pandas as pd"
   ]
  },
  {
   "cell_type": "code",
   "execution_count": 2,
   "metadata": {
    "pycharm": {
     "name": "#%%\n"
    }
   },
   "outputs": [],
   "source": [
    "df = pd.read_csv('Data/price/clean_price_data')"
   ]
  },
  {
   "cell_type": "code",
   "execution_count": 3,
   "metadata": {
    "pycharm": {
     "name": "#%%\n"
    }
   },
   "outputs": [
    {
     "data": {
      "text/plain": "         Date        Open        High         Low       Close      Volume  \\\n0  2017-09-11  308.644989  329.451996  307.056000  320.884003   893249984   \n1  2017-10-11  320.670990  324.717987  294.541992  299.252991   885985984   \n2  2017-11-11  298.585999  319.453003  298.191986  314.681000   842300992   \n3  2017-12-11  314.690002  319.153015  298.513000  307.907990  1613479936   \n4  2017-11-13  307.024994  328.415009  307.024994  316.716003  1041889984   \n\n   Week Day  Day   Next_High    Next_Low  \n0         1    0  324.717987  294.541992  \n1         1    2  319.453003  298.191986  \n2         0    5  319.153015  298.513000  \n3         1    0  328.415009  307.024994  \n4         1    0  340.177002  316.763000  ",
      "text/html": "<div>\n<style scoped>\n    .dataframe tbody tr th:only-of-type {\n        vertical-align: middle;\n    }\n\n    .dataframe tbody tr th {\n        vertical-align: top;\n    }\n\n    .dataframe thead th {\n        text-align: right;\n    }\n</style>\n<table border=\"1\" class=\"dataframe\">\n  <thead>\n    <tr style=\"text-align: right;\">\n      <th></th>\n      <th>Date</th>\n      <th>Open</th>\n      <th>High</th>\n      <th>Low</th>\n      <th>Close</th>\n      <th>Volume</th>\n      <th>Week Day</th>\n      <th>Day</th>\n      <th>Next_High</th>\n      <th>Next_Low</th>\n    </tr>\n  </thead>\n  <tbody>\n    <tr>\n      <th>0</th>\n      <td>2017-09-11</td>\n      <td>308.644989</td>\n      <td>329.451996</td>\n      <td>307.056000</td>\n      <td>320.884003</td>\n      <td>893249984</td>\n      <td>1</td>\n      <td>0</td>\n      <td>324.717987</td>\n      <td>294.541992</td>\n    </tr>\n    <tr>\n      <th>1</th>\n      <td>2017-10-11</td>\n      <td>320.670990</td>\n      <td>324.717987</td>\n      <td>294.541992</td>\n      <td>299.252991</td>\n      <td>885985984</td>\n      <td>1</td>\n      <td>2</td>\n      <td>319.453003</td>\n      <td>298.191986</td>\n    </tr>\n    <tr>\n      <th>2</th>\n      <td>2017-11-11</td>\n      <td>298.585999</td>\n      <td>319.453003</td>\n      <td>298.191986</td>\n      <td>314.681000</td>\n      <td>842300992</td>\n      <td>0</td>\n      <td>5</td>\n      <td>319.153015</td>\n      <td>298.513000</td>\n    </tr>\n    <tr>\n      <th>3</th>\n      <td>2017-12-11</td>\n      <td>314.690002</td>\n      <td>319.153015</td>\n      <td>298.513000</td>\n      <td>307.907990</td>\n      <td>1613479936</td>\n      <td>1</td>\n      <td>0</td>\n      <td>328.415009</td>\n      <td>307.024994</td>\n    </tr>\n    <tr>\n      <th>4</th>\n      <td>2017-11-13</td>\n      <td>307.024994</td>\n      <td>328.415009</td>\n      <td>307.024994</td>\n      <td>316.716003</td>\n      <td>1041889984</td>\n      <td>1</td>\n      <td>0</td>\n      <td>340.177002</td>\n      <td>316.763000</td>\n    </tr>\n  </tbody>\n</table>\n</div>"
     },
     "execution_count": 3,
     "metadata": {},
     "output_type": "execute_result"
    }
   ],
   "source": [
    "df.head()"
   ]
  },
  {
   "cell_type": "code",
   "execution_count": 4,
   "metadata": {
    "pycharm": {
     "name": "#%%\n"
    }
   },
   "outputs": [
    {
     "data": {
      "text/plain": "                   Open         High          Low        Close      Volume  \\\nDate                                                                         \n2023-04-05  1905.168945  1915.871704  1868.629761  1877.704102  6578438233   \n2023-05-05  1877.833130  1998.413574  1876.946655  1995.060913  9498261360   \n2023-06-05  1995.479126  2017.559448  1870.605591  1900.221802  9623243037   \n2023-07-05  1899.917603  1933.998413  1873.076416  1873.076416  6883942236   \n2023-08-05  1872.475098  1886.162109  1818.450562  1849.042725  9895102899   \n\n            Week Day  Day    Next_High     Next_Low  \nDate                                                 \n2023-04-05         1    2  1998.413574  1876.946655  \n2023-05-05         1    4  2017.559448  1870.605591  \n2023-06-05         1    0  1933.998413  1873.076416  \n2023-07-05         1    2  1886.162109  1818.450562  \n2023-08-05         0    5  1855.824951  1833.420288  ",
      "text/html": "<div>\n<style scoped>\n    .dataframe tbody tr th:only-of-type {\n        vertical-align: middle;\n    }\n\n    .dataframe tbody tr th {\n        vertical-align: top;\n    }\n\n    .dataframe thead th {\n        text-align: right;\n    }\n</style>\n<table border=\"1\" class=\"dataframe\">\n  <thead>\n    <tr style=\"text-align: right;\">\n      <th></th>\n      <th>Open</th>\n      <th>High</th>\n      <th>Low</th>\n      <th>Close</th>\n      <th>Volume</th>\n      <th>Week Day</th>\n      <th>Day</th>\n      <th>Next_High</th>\n      <th>Next_Low</th>\n    </tr>\n    <tr>\n      <th>Date</th>\n      <th></th>\n      <th></th>\n      <th></th>\n      <th></th>\n      <th></th>\n      <th></th>\n      <th></th>\n      <th></th>\n      <th></th>\n    </tr>\n  </thead>\n  <tbody>\n    <tr>\n      <th>2023-04-05</th>\n      <td>1905.168945</td>\n      <td>1915.871704</td>\n      <td>1868.629761</td>\n      <td>1877.704102</td>\n      <td>6578438233</td>\n      <td>1</td>\n      <td>2</td>\n      <td>1998.413574</td>\n      <td>1876.946655</td>\n    </tr>\n    <tr>\n      <th>2023-05-05</th>\n      <td>1877.833130</td>\n      <td>1998.413574</td>\n      <td>1876.946655</td>\n      <td>1995.060913</td>\n      <td>9498261360</td>\n      <td>1</td>\n      <td>4</td>\n      <td>2017.559448</td>\n      <td>1870.605591</td>\n    </tr>\n    <tr>\n      <th>2023-06-05</th>\n      <td>1995.479126</td>\n      <td>2017.559448</td>\n      <td>1870.605591</td>\n      <td>1900.221802</td>\n      <td>9623243037</td>\n      <td>1</td>\n      <td>0</td>\n      <td>1933.998413</td>\n      <td>1873.076416</td>\n    </tr>\n    <tr>\n      <th>2023-07-05</th>\n      <td>1899.917603</td>\n      <td>1933.998413</td>\n      <td>1873.076416</td>\n      <td>1873.076416</td>\n      <td>6883942236</td>\n      <td>1</td>\n      <td>2</td>\n      <td>1886.162109</td>\n      <td>1818.450562</td>\n    </tr>\n    <tr>\n      <th>2023-08-05</th>\n      <td>1872.475098</td>\n      <td>1886.162109</td>\n      <td>1818.450562</td>\n      <td>1849.042725</td>\n      <td>9895102899</td>\n      <td>0</td>\n      <td>5</td>\n      <td>1855.824951</td>\n      <td>1833.420288</td>\n    </tr>\n  </tbody>\n</table>\n</div>"
     },
     "execution_count": 4,
     "metadata": {},
     "output_type": "execute_result"
    }
   ],
   "source": [
    "df.set_index('Date', inplace=True)\n",
    "df = df.drop(index=df.index[-1])\n",
    "df.tail()"
   ]
  },
  {
   "cell_type": "code",
   "execution_count": 5,
   "metadata": {
    "pycharm": {
     "name": "#%%\n"
    }
   },
   "outputs": [],
   "source": [
    "train_size = 0.7\n",
    "train_index = int(len(df) * train_size)\n",
    "\n",
    "train_data = df.iloc[:train_index]\n",
    "test_data = df.iloc[train_index:]"
   ]
  },
  {
   "cell_type": "code",
   "execution_count": 6,
   "metadata": {
    "pycharm": {
     "name": "#%%\n"
    }
   },
   "outputs": [],
   "source": [
    "X_train = train_data.drop(['Next_High', 'Next_Low'], axis=1)\n",
    "y_train = train_data['Next_High']\n",
    "\n",
    "X_test = test_data.drop(['Next_High', 'Next_Low'], axis=1)\n",
    "y_test = test_data['Next_High']"
   ]
  },
  {
   "cell_type": "code",
   "execution_count": 7,
   "metadata": {
    "pycharm": {
     "name": "#%%\n"
    }
   },
   "outputs": [],
   "source": [
    "from sklearn.preprocessing import RobustScaler"
   ]
  },
  {
   "cell_type": "code",
   "execution_count": 8,
   "metadata": {
    "pycharm": {
     "name": "#%%\n"
    }
   },
   "outputs": [],
   "source": [
    "scaler = RobustScaler()\n",
    "scaler.fit(X_train)\n",
    "X_train_scaled = scaler.transform(X_train)\n",
    "X_test_scaled = scaler.transform(X_test)"
   ]
  },
  {
   "cell_type": "code",
   "execution_count": 9,
   "metadata": {
    "pycharm": {
     "name": "#%%\n"
    }
   },
   "outputs": [],
   "source": [
    "from sklearn.linear_model import ElasticNet"
   ]
  },
  {
   "cell_type": "code",
   "execution_count": 10,
   "metadata": {
    "pycharm": {
     "name": "#%%\n"
    }
   },
   "outputs": [],
   "source": [
    "linear_model = ElasticNet()"
   ]
  },
  {
   "cell_type": "code",
   "execution_count": 11,
   "metadata": {
    "pycharm": {
     "name": "#%%\n"
    }
   },
   "outputs": [
    {
     "data": {
      "text/plain": "ElasticNet()"
     },
     "execution_count": 11,
     "metadata": {},
     "output_type": "execute_result"
    }
   ],
   "source": [
    "linear_model.fit(X_train_scaled, y_train)"
   ]
  },
  {
   "cell_type": "code",
   "execution_count": 12,
   "metadata": {
    "pycharm": {
     "name": "#%%\n"
    }
   },
   "outputs": [],
   "source": [
    "linear_pred = linear_model.predict(X_test_scaled)"
   ]
  },
  {
   "cell_type": "code",
   "execution_count": 13,
   "metadata": {
    "pycharm": {
     "name": "#%%\n"
    }
   },
   "outputs": [],
   "source": [
    "from sklearn.metrics import mean_squared_error, mean_absolute_error"
   ]
  },
  {
   "cell_type": "code",
   "execution_count": 14,
   "metadata": {
    "pycharm": {
     "name": "#%%\n"
    }
   },
   "outputs": [
    {
     "data": {
      "text/plain": "106.5580869555413"
     },
     "execution_count": 14,
     "metadata": {},
     "output_type": "execute_result"
    }
   ],
   "source": [
    "RMSE = np.sqrt(mean_squared_error(y_test, linear_pred))\n",
    "RMSE"
   ]
  },
  {
   "cell_type": "markdown",
   "metadata": {
    "pycharm": {
     "name": "#%% md\n"
    }
   },
   "source": [
    "RMSE of RandomForest was: 156\n",
    "RMSE of AdaBoostRegressor was: 146\n",
    "RMSE of GradientBoostingRegressor was: 137"
   ]
  },
  {
   "cell_type": "code",
   "execution_count": 15,
   "metadata": {
    "pycharm": {
     "name": "#%%\n"
    }
   },
   "outputs": [
    {
     "data": {
      "text/plain": "10.381443335650133"
     },
     "execution_count": 15,
     "metadata": {},
     "output_type": "execute_result"
    }
   ],
   "source": [
    "(mean_absolute_error(y_test, linear_pred)/y_train.mean())*100"
   ]
  },
  {
   "cell_type": "raw",
   "metadata": {
    "pycharm": {
     "name": "#%% raw\n"
    }
   },
   "source": [
    "Grid Search"
   ]
  },
  {
   "cell_type": "code",
   "execution_count": 16,
   "metadata": {
    "pycharm": {
     "name": "#%%\n"
    }
   },
   "outputs": [],
   "source": [
    "from sklearn.model_selection import GridSearchCV"
   ]
  },
  {
   "cell_type": "code",
   "execution_count": 17,
   "metadata": {
    "pycharm": {
     "name": "#%%\n"
    }
   },
   "outputs": [],
   "source": [
    "param_grid = {'alpha':[0.25, 0.5, 0.6, 0.75], 'l1_ratio':[0.5, 0.6, 0.75]}"
   ]
  },
  {
   "cell_type": "code",
   "execution_count": 18,
   "metadata": {
    "pycharm": {
     "name": "#%%\n"
    }
   },
   "outputs": [],
   "source": [
    "grid = GridSearchCV(linear_model, param_grid=param_grid, cv=5)"
   ]
  },
  {
   "cell_type": "code",
   "execution_count": 19,
   "metadata": {
    "pycharm": {
     "name": "#%%\n"
    }
   },
   "outputs": [
    {
     "data": {
      "text/plain": "GridSearchCV(cv=5, estimator=ElasticNet(),\n             param_grid={'alpha': [0.25, 0.5, 0.6, 0.75],\n                         'l1_ratio': [0.5, 0.6, 0.75]})"
     },
     "execution_count": 19,
     "metadata": {},
     "output_type": "execute_result"
    }
   ],
   "source": [
    "grid.fit(X_train_scaled, y_train)"
   ]
  },
  {
   "cell_type": "code",
   "execution_count": 20,
   "metadata": {
    "pycharm": {
     "name": "#%%\n"
    }
   },
   "outputs": [
    {
     "data": {
      "text/plain": "{'alpha': 0.25, 'l1_ratio': 0.75}"
     },
     "execution_count": 20,
     "metadata": {},
     "output_type": "execute_result"
    }
   ],
   "source": [
    "grid.best_params_"
   ]
  },
  {
   "cell_type": "code",
   "execution_count": 21,
   "metadata": {
    "pycharm": {
     "name": "#%%\n"
    }
   },
   "outputs": [],
   "source": [
    "best_linear = ElasticNet(alpha=0.25, l1_ratio=0.75)"
   ]
  },
  {
   "cell_type": "code",
   "execution_count": 22,
   "metadata": {
    "pycharm": {
     "name": "#%%\n"
    }
   },
   "outputs": [
    {
     "data": {
      "text/plain": "ElasticNet(alpha=0.25, l1_ratio=0.75)"
     },
     "execution_count": 22,
     "metadata": {},
     "output_type": "execute_result"
    }
   ],
   "source": [
    "best_linear.fit(X_train_scaled, y_train)"
   ]
  },
  {
   "cell_type": "code",
   "execution_count": 23,
   "metadata": {
    "pycharm": {
     "name": "#%%\n"
    }
   },
   "outputs": [],
   "source": [
    "best_pred = best_linear.predict(X_test_scaled)"
   ]
  },
  {
   "cell_type": "code",
   "execution_count": 24,
   "metadata": {
    "pycharm": {
     "name": "#%%\n"
    }
   },
   "outputs": [
    {
     "data": {
      "text/plain": "74.50322942237855"
     },
     "execution_count": 24,
     "metadata": {},
     "output_type": "execute_result"
    }
   ],
   "source": [
    "RMSE = np.sqrt(mean_squared_error(y_test, best_pred))\n",
    "RMSE"
   ]
  },
  {
   "cell_type": "code",
   "execution_count": 24,
   "metadata": {
    "pycharm": {
     "name": "#%%\n"
    }
   },
   "outputs": [],
   "source": []
  },
  {
   "cell_type": "code",
   "execution_count": 25,
   "outputs": [],
   "source": [
    "best_linear = ElasticNet(alpha=0.25, l1_ratio=0.75)"
   ],
   "metadata": {
    "collapsed": false,
    "pycharm": {
     "name": "#%%\n"
    }
   }
  },
  {
   "cell_type": "code",
   "execution_count": 26,
   "outputs": [
    {
     "data": {
      "text/plain": "ElasticNet(alpha=0.25, l1_ratio=0.75)"
     },
     "execution_count": 26,
     "metadata": {},
     "output_type": "execute_result"
    }
   ],
   "source": [
    "best_linear.fit(X_train_scaled, y_train)"
   ],
   "metadata": {
    "collapsed": false,
    "pycharm": {
     "name": "#%%\n"
    }
   }
  },
  {
   "cell_type": "code",
   "execution_count": 27,
   "outputs": [],
   "source": [
    "best_pred = best_linear.predict(X_test_scaled)"
   ],
   "metadata": {
    "collapsed": false,
    "pycharm": {
     "name": "#%%\n"
    }
   }
  },
  {
   "cell_type": "code",
   "execution_count": 28,
   "outputs": [
    {
     "data": {
      "text/plain": "74.50322942237855"
     },
     "execution_count": 28,
     "metadata": {},
     "output_type": "execute_result"
    }
   ],
   "source": [
    "RMSE = np.sqrt(mean_squared_error(y_test, best_pred))\n",
    "RMSE"
   ],
   "metadata": {
    "collapsed": false,
    "pycharm": {
     "name": "#%%\n"
    }
   }
  },
  {
   "cell_type": "code",
   "execution_count": 29,
   "outputs": [],
   "source": [
    "import joblib"
   ],
   "metadata": {
    "collapsed": false,
    "pycharm": {
     "name": "#%%\n"
    }
   }
  },
  {
   "cell_type": "code",
   "execution_count": 30,
   "outputs": [
    {
     "data": {
      "text/plain": "['models/linear_model.pkl']"
     },
     "execution_count": 30,
     "metadata": {},
     "output_type": "execute_result"
    }
   ],
   "source": [
    "joblib.dump(value=best_linear, filename='models/linear_model.pkl')"
   ],
   "metadata": {
    "collapsed": false,
    "pycharm": {
     "name": "#%%\n"
    }
   }
  },
  {
   "cell_type": "markdown",
   "source": [
    "Second Model"
   ],
   "metadata": {
    "collapsed": false,
    "pycharm": {
     "name": "#%% md\n"
    }
   }
  },
  {
   "cell_type": "code",
   "execution_count": 33,
   "outputs": [
    {
     "data": {
      "text/plain": "0.9949783898063821"
     },
     "execution_count": 33,
     "metadata": {},
     "output_type": "execute_result"
    }
   ],
   "source": [
    "best_linear.score(X_test_scaled, y_test)"
   ],
   "metadata": {
    "collapsed": false,
    "pycharm": {
     "name": "#%%\n"
    }
   }
  },
  {
   "cell_type": "code",
   "execution_count": 34,
   "outputs": [],
   "source": [
    "import matplotlib.pyplot as plt"
   ],
   "metadata": {
    "collapsed": false,
    "pycharm": {
     "name": "#%%\n"
    }
   }
  },
  {
   "cell_type": "code",
   "execution_count": 35,
   "outputs": [
    {
     "data": {
      "text/plain": "<matplotlib.legend.Legend at 0x22f479d35e0>"
     },
     "execution_count": 35,
     "metadata": {},
     "output_type": "execute_result"
    },
    {
     "data": {
      "text/plain": "<Figure size 1200x750 with 1 Axes>",
      "image/png": "[encoded data removed]"
     },
     "metadata": {},
     "output_type": "display_data"
    }
   ],
   "source": [
    "new = pd.DataFrame({'True': y_test, 'Prediction':best_pred})\n",
    "new['Date'] = np.arange(len(new))\n",
    "\n",
    "plt.figure(figsize=(8,5), dpi=150)\n",
    "plt.plot(new['Date'], new['True'], label='True')\n",
    "plt.plot(new['Date'], new['Prediction'], label='Prediction')\n",
    "plt.xlabel('Date')\n",
    "plt.ylabel('Price')\n",
    "plt.title('True and Predicted')\n",
    "plt.legend()"
   ],
   "metadata": {
    "collapsed": false,
    "pycharm": {
     "name": "#%%\n"
    }
   }
  },
  {
   "cell_type": "code",
   "execution_count": 36,
   "outputs": [
    {
     "data": {
      "text/plain": "                   True   Prediction  Date\nDate                                      \n2021-09-13  3429.169678  3421.422229     0\n2021-09-14  3615.282715  3472.273091     1\n2021-09-15  3673.310791  3628.316494     2\n2021-09-16  3589.305176  3705.355197     3\n2021-09-17  3540.807617  3585.911265     4\n...                 ...          ...   ...\n2023-04-05  1998.413574  1946.971908   598\n2023-05-05  2017.559448  2002.107189   599\n2023-06-05  1933.998413  2003.459063   600\n2023-07-05  1886.162109  1950.375758   601\n2023-08-05  1855.824951  1915.293046   602\n\n[603 rows x 3 columns]",
      "text/html": "<div>\n<style scoped>\n    .dataframe tbody tr th:only-of-type {\n        vertical-align: middle;\n    }\n\n    .dataframe tbody tr th {\n        vertical-align: top;\n    }\n\n    .dataframe thead th {\n        text-align: right;\n    }\n</style>\n<table border=\"1\" class=\"dataframe\">\n  <thead>\n    <tr style=\"text-align: right;\">\n      <th></th>\n      <th>True</th>\n      <th>Prediction</th>\n      <th>Date</th>\n    </tr>\n    <tr>\n      <th>Date</th>\n      <th></th>\n      <th></th>\n      <th></th>\n    </tr>\n  </thead>\n  <tbody>\n    <tr>\n      <th>2021-09-13</th>\n      <td>3429.169678</td>\n      <td>3421.422229</td>\n      <td>0</td>\n    </tr>\n    <tr>\n      <th>2021-09-14</th>\n      <td>3615.282715</td>\n      <td>3472.273091</td>\n      <td>1</td>\n    </tr>\n    <tr>\n      <th>2021-09-15</th>\n      <td>3673.310791</td>\n      <td>3628.316494</td>\n      <td>2</td>\n    </tr>\n    <tr>\n      <th>2021-09-16</th>\n      <td>3589.305176</td>\n      <td>3705.355197</td>\n      <td>3</td>\n    </tr>\n    <tr>\n      <th>2021-09-17</th>\n      <td>3540.807617</td>\n      <td>3585.911265</td>\n      <td>4</td>\n    </tr>\n    <tr>\n      <th>...</th>\n      <td>...</td>\n      <td>...</td>\n      <td>...</td>\n    </tr>\n    <tr>\n      <th>2023-04-05</th>\n      <td>1998.413574</td>\n      <td>1946.971908</td>\n      <td>598</td>\n    </tr>\n    <tr>\n      <th>2023-05-05</th>\n      <td>2017.559448</td>\n      <td>2002.107189</td>\n      <td>599</td>\n    </tr>\n    <tr>\n      <th>2023-06-05</th>\n      <td>1933.998413</td>\n      <td>2003.459063</td>\n      <td>600</td>\n    </tr>\n    <tr>\n      <th>2023-07-05</th>\n      <td>1886.162109</td>\n      <td>1950.375758</td>\n      <td>601</td>\n    </tr>\n    <tr>\n      <th>2023-08-05</th>\n      <td>1855.824951</td>\n      <td>1915.293046</td>\n      <td>602</td>\n    </tr>\n  </tbody>\n</table>\n<p>603 rows × 3 columns</p>\n</div>"
     },
     "execution_count": 36,
     "metadata": {},
     "output_type": "execute_result"
    }
   ],
   "source": [
    "new"
   ],
   "metadata": {
    "collapsed": false,
    "pycharm": {
     "name": "#%%\n"
    }
   }
  },
  {
   "cell_type": "code",
   "execution_count": null,
   "outputs": [],
   "source": [],
   "metadata": {
    "collapsed": false,
    "pycharm": {
     "name": "#%%\n"
    }
   }
  }
 ],
 "metadata": {
  "kernelspec": {
   "display_name": "Python 3",
   "language": "python",
   "name": "python3"
  },
  "language_info": {
   "codemirror_mode": {
    "name": "ipython",
    "version": 3
   },
   "file_extension": ".py",
   "mimetype": "text/x-python",
   "name": "python",
   "nbconvert_exporter": "python",
   "pygments_lexer": "ipython3",
   "version": "3.8.5"
  }
 },
 "nbformat": 4,
 "nbformat_minor": 1
}